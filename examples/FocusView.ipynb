{
 "cells": [
  {
   "cell_type": "markdown",
   "id": "circular-heading",
   "metadata": {},
   "source": [
    "# Cytoscape Node `FocusView`\n",
    "TODO"
   ]
  },
  {
   "cell_type": "markdown",
   "id": "prepared-purpose",
   "metadata": {},
   "source": [
    "Let's start by getting our graph loaded in."
   ]
  },
  {
   "cell_type": "code",
   "execution_count": null,
   "id": "ongoing-worcester",
   "metadata": {},
   "outputs": [],
   "source": [
    "from ipyradiant import FileManager, PathLoader\n",
    "\n",
    "lw = FileManager(loader=PathLoader(path=\"data\"))\n",
    "# here we hard set what we want the file to be, but ideally a user can choose a file to work with.\n",
    "lw.loader.file_picker.value = lw.loader.file_picker.options[\"starwars.ttl\"]"
   ]
  },
  {
   "cell_type": "code",
   "execution_count": null,
   "id": "soviet-inspiration",
   "metadata": {},
   "outputs": [],
   "source": [
    "from rdflib import URIRef\n",
    "from ipyradiant.visualization.cytoscape.focus import FocusView\n",
    "\n",
    "# TODO lighten opactiy of the target nodes\n",
    "# TODO increase size of focus node\n",
    "fv = FocusView(\n",
    "    subject_uri=URIRef(\"https://swapi.co/resource/human/1\"),\n",
    "    rdf_graph=lw.graph\n",
    ")\n",
    "fv"
   ]
  },
  {
   "cell_type": "code",
   "execution_count": null,
   "id": "solved-debut",
   "metadata": {},
   "outputs": [],
   "source": [
    "fv.subject_uri = URIRef(\"https://swapi.co/resource/human/4\")"
   ]
  },
  {
   "cell_type": "markdown",
   "id": "square-creativity",
   "metadata": {},
   "source": [
    "Link to JSON widget to inspect node data. This shows that target nodes also have full data collapsed onto node. "
   ]
  },
  {
   "cell_type": "code",
   "execution_count": null,
   "id": "single-haiti",
   "metadata": {},
   "outputs": [],
   "source": [
    "from IPython.display import JSON, display\n",
    "import ipywidgets as W\n",
    "\n",
    "\n",
    "class CombinedExample(W.VBox):\n",
    "    def __init__(self, *args, **kwargs):\n",
    "        super().__init__(*args, **kwargs)\n",
    "        self.json_output = W.Output()\n",
    "        self.interactive_widget = kwargs[\"interactive_widget\"]\n",
    "        self.children = [self.interactive_widget, self.json_output]\n",
    "        self.interactive_widget.cytoscape_widget.on(\"node\", \"click\", self.load_json)\n",
    "\n",
    "    def load_json(self, node):\n",
    "        data = node[\"data\"]\n",
    "        data.pop(\"_label\", None)\n",
    "        data.pop(\"_attrs\", None)\n",
    "        with self.json_output:\n",
    "            self.json_output.clear_output()\n",
    "            display(JSON(data))"
   ]
  },
  {
   "cell_type": "code",
   "execution_count": null,
   "id": "charitable-palmer",
   "metadata": {},
   "outputs": [],
   "source": [
    "ce = CombinedExample(interactive_widget=fv.cytoscape_viewer)\n",
    "ce"
   ]
  }
 ],
 "metadata": {
  "kernelspec": {
   "display_name": "Python 3",
   "language": "python",
   "name": "python3"
  },
  "language_info": {
   "codemirror_mode": {
    "name": "ipython",
    "version": 3
   },
   "file_extension": ".py",
   "mimetype": "text/x-python",
   "name": "python",
   "nbconvert_exporter": "python",
   "pygments_lexer": "ipython3",
   "version": "3.7.9"
  }
 },
 "nbformat": 4,
 "nbformat_minor": 5
}
