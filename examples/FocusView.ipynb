{
 "cells": [
  {
   "cell_type": "markdown",
   "id": "ideal-hardwood",
   "metadata": {},
   "source": [
    "# Cytoscape Node `FocusView`\n",
    "TODO"
   ]
  },
  {
   "cell_type": "code",
   "execution_count": null,
   "id": "complimentary-burton",
   "metadata": {},
   "outputs": [],
   "source": [
    "import rdflib\n",
    "\n",
    "from ipyradiant import FileManager, PathLoader\n",
    "from ipyradiant.visualization import CytoscapeViewer"
   ]
  },
  {
   "cell_type": "markdown",
   "id": "wrapped-armenia",
   "metadata": {},
   "source": [
    "Let's start by getting our graph loaded in."
   ]
  },
  {
   "cell_type": "markdown",
   "id": "serious-packaging",
   "metadata": {},
   "source": [
    "Explain why we need a subgraph (too many nodes causes issues with cytoscape)."
   ]
  },
  {
   "cell_type": "code",
   "execution_count": null,
   "id": "apart-bristol",
   "metadata": {},
   "outputs": [],
   "source": [
    "lw = FileManager(loader=PathLoader(path=\"data\"))\n",
    "# here we hard set what we want the file to be, but ideally a user can choose a file to work with.\n",
    "lw.loader.file_picker.value = lw.loader.file_picker.options[\"starwars_sm.ttl\"]"
   ]
  },
  {
   "cell_type": "code",
   "execution_count": null,
   "id": "vocational-expense",
   "metadata": {},
   "outputs": [],
   "source": [
    "CytoscapeViewer(graph=lw.graph)"
   ]
  },
  {
   "cell_type": "markdown",
   "id": "distinguished-wesley",
   "metadata": {},
   "source": [
    "## Now we can initiate the `CytoscapeViewer` object, which allows us to get a nice representation of an RDF or networkx graph"
   ]
  },
  {
   "cell_type": "markdown",
   "id": "mysterious-participant",
   "metadata": {},
   "source": [
    "### Steps\n",
    "#### 1. Focus Query\n",
    "#### 2. Widget class"
   ]
  },
  {
   "cell_type": "code",
   "execution_count": null,
   "id": "aging-ending",
   "metadata": {},
   "outputs": [],
   "source": [
    "from ipyradiant.query.api import build_values\n",
    "from ipyradiant.query.api import SPARQLQueryFramer\n",
    "from rdflib import URIRef, Graph\n",
    "\n",
    "class MetaFocusQuery(type):\n",
    "    \"\"\"Metaclass to TODO\"\"\"\n",
    "\n",
    "    _sparql = \"\"\"\n",
    "        CONSTRUCT {{\n",
    "            ?s ?p ?o .\n",
    "        }} WHERE {{\n",
    "            ?s ?p ?o .\n",
    "\n",
    "            VALUES ({}) {{\n",
    "                {}\n",
    "            }}\n",
    "        }}\n",
    "        ORDER BY DESC(?type)\n",
    "        LIMIT 10\n",
    "    \"\"\"\n",
    "    values = None\n",
    "\n",
    "    @property\n",
    "    def sparql(cls):\n",
    "        return build_values(cls._sparql, cls.values)\n",
    "    \n",
    "    \n",
    "class FocusQuery(SPARQLQueryFramer, metaclass=MetaFocusQuery):\n",
    "    values = {\"s\": [URIRef(\"https://swapi.co/resource/human/4\")]}\n",
    "    columns = [\"s\", \"p\", \"o\"]"
   ]
  },
  {
   "cell_type": "code",
   "execution_count": null,
   "id": "productive-ordinary",
   "metadata": {},
   "outputs": [],
   "source": [
    "qres_df = FocusQuery.run_query(lw.graph)\n",
    "# Dump to rdf graph\n",
    "rdf_graph = Graph()\n",
    "for triple in qres_df.values:\n",
    "    rdf_graph.add(triple)"
   ]
  },
  {
   "cell_type": "code",
   "execution_count": null,
   "id": "brutal-montgomery",
   "metadata": {},
   "outputs": [],
   "source": [
    "import ipywidgets as W\n",
    "import traitlets as T\n",
    "import networkx as nx\n",
    "import ipycytoscape as cyto\n",
    "\n",
    "\n",
    "class FocusView(W.Box):\n",
    "    cytoscape_widget = T.Instance(CytoscapeViewer, kw={})\n",
    "    # focus_node = # TODO what should this be?\n",
    "    # probably some graph attribute\n",
    "    \n",
    "    @T.validate(\"children\")\n",
    "    def validate_children(self, proposal):\n",
    "        \"\"\"\n",
    "        Validate method for default children.\n",
    "        This is necessary because @trt.default does not work on children.\n",
    "        \"\"\"\n",
    "        children = proposal.value\n",
    "        if not children:\n",
    "            children = (\n",
    "                self.cytoscape_widget,\n",
    "            )\n",
    "        return children"
   ]
  },
  {
   "cell_type": "code",
   "execution_count": null,
   "id": "stylish-defensive",
   "metadata": {},
   "outputs": [],
   "source": [
    "from IPython.display import JSON, display\n",
    "\n",
    "\n",
    "class CombinedExample(W.VBox):\n",
    "    def __init__(self, *args, **kwargs):\n",
    "        super().__init__(*args, **kwargs)\n",
    "        self.json_output = W.Output()\n",
    "        self.interactive_widget = kwargs[\"interactive_widget\"]\n",
    "        self.children = [self.interactive_widget, self.json_output]\n",
    "        self.interactive_widget.cytoscape_widget.on(\"node\", \"click\", self.load_json)\n",
    "\n",
    "    def load_json(self, node):\n",
    "        data = node[\"data\"]\n",
    "        data.pop(\"_label\", None)\n",
    "        data.pop(\"_attrs\", None)\n",
    "        with self.json_output:\n",
    "            self.json_output.clear_output()\n",
    "            display(JSON(data))"
   ]
  },
  {
   "cell_type": "code",
   "execution_count": null,
   "id": "composite-shelter",
   "metadata": {},
   "outputs": [],
   "source": [
    "fv = FocusView()\n",
    "fv.cytoscape_widget.include_missing_nodes = True\n",
    "fv.cytoscape_widget.graph = rdf_graph\n",
    "fv.cytoscape_widget.layout.width = \"100%\""
   ]
  },
  {
   "cell_type": "code",
   "execution_count": null,
   "id": "synthetic-complex",
   "metadata": {},
   "outputs": [],
   "source": [
    "ce = CombinedExample(interactive_widget=fv.cytoscape_widget)\n",
    "ce"
   ]
  }
 ],
 "metadata": {
  "kernelspec": {
   "display_name": "Python 3",
   "language": "python",
   "name": "python3"
  },
  "language_info": {
   "codemirror_mode": {
    "name": "ipython",
    "version": 3
   },
   "file_extension": ".py",
   "mimetype": "text/x-python",
   "name": "python",
   "nbconvert_exporter": "python",
   "pygments_lexer": "ipython3",
   "version": "3.7.9"
  }
 },
 "nbformat": 4,
 "nbformat_minor": 5
}
