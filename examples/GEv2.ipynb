{
 "cells": [
  {
   "cell_type": "markdown",
   "id": "arctic-testing",
   "metadata": {},
   "source": [
    "### Load an Example Graph"
   ]
  },
  {
   "cell_type": "code",
   "execution_count": null,
   "id": "extra-arbitration",
   "metadata": {},
   "outputs": [],
   "source": [
    "from ipyradiant import FileManager, PathLoader\n",
    "import rdflib\n",
    "\n",
    "lw = FileManager(loader=PathLoader(path=\"data\"))\n",
    "# here we hard set what we want the file to be, but ideally a user can choose a file to work with.\n",
    "lw.loader.file_picker.value = lw.loader.file_picker.options[\"starwars.ttl\"]\n",
    "rdf_graph = lw.graph\n",
    "qres = lw.graph.query(\n",
    "    \"\"\"\n",
    "    PREFIX planet: <https://swapi.co/resource/planet/>\n",
    "    PREFIX human: <https://swapi.co/resource/human/>\n",
    "    PREFIX film: <https://swapi.co/resource/film/>\n",
    "    \n",
    "    CONSTRUCT {\n",
    "        ?s ?p ?o .\n",
    "    }\n",
    "    WHERE {\n",
    "        ?s ?p ?o .\n",
    "        \n",
    "        VALUES (?s) {\n",
    "            (human:1)\n",
    "            (human:4)\n",
    "#            (human:5)\n",
    "#            (film:1)\n",
    "#            (film:4)\n",
    "#            (planet:1)\n",
    "#            (planet:2)\n",
    "        }\n",
    "    }\n",
    "    \"\"\"\n",
    ")\n",
    "\n",
    "simple_graph = rdflib.graph.Graph().parse(data=qres.serialize(format=\"xml\"))"
   ]
  },
  {
   "cell_type": "code",
   "execution_count": null,
   "id": "robust-multimedia",
   "metadata": {},
   "outputs": [],
   "source": [
    "from ipyradiant.visualization import CytoscapeViewer\n",
    "\n",
    "cv = CytoscapeViewer()\n",
    "cv.graph = simple_graph\n",
    "cv"
   ]
  },
  {
   "cell_type": "markdown",
   "id": "ranking-cheese",
   "metadata": {},
   "source": [
    "### GEv2"
   ]
  },
  {
   "cell_type": "code",
   "execution_count": null,
   "id": "naval-somalia",
   "metadata": {},
   "outputs": [],
   "source": [
    "import ipycytoscape as cyto\n",
    "import ipywidgets as W\n",
    "import traitlets as T\n",
    "import rdflib\n",
    "\n",
    "from ipyradiant.visualization.explore.interactive_exploration import add_cyto_class, remove_cyto_class\n",
    "\n",
    "\n",
    "# TODO need some type of warning that observers must be set every time the graph changes\n",
    "class GEv2(W.Box):\n",
    "    graph_view = T.Instance(CytoscapeViewer)\n",
    "    rdf_graph = T.Instance(rdflib.graph.Graph)\n",
    "    selected_node = T.Instance(cyto.Node, allow_none=True)\n",
    "    \n",
    "    _log = W.Output()\n",
    "    \n",
    "    def update_cytoscape_frontend(self):\n",
    "        \"\"\"A temporary workaround to trigger a frontend refresh\"\"\"\n",
    "        self.graph_view.cytoscape_widget.graph.add_node(cyto.Node(data={\"id\": \"random node\"}))\n",
    "        self.graph_view.cytoscape_widget.graph.remove_node_by_id(\"random node\")\n",
    "    \n",
    "    def get_node(self, node: dict) -> cyto.Node:\n",
    "        \"\"\"This function is used to find a node given the id of a node copy\"\"\"\n",
    "\n",
    "        for cyto_node in self.graph_view.cytoscape_widget.graph.nodes:\n",
    "            if cyto_node.data[\"id\"] == node[\"data\"][\"id\"]:\n",
    "                return cyto_node\n",
    "        raise ValueError(\"Node not found in cytoscape.graph.nodes.\")\n",
    "    \n",
    "    @_log.capture()\n",
    "    def node_click_action(self, node: dict):\n",
    "        # Have to get the object by dict reference\n",
    "        cyto_node = self.get_node(node)\n",
    "        \n",
    "        if self.selected_node != cyto_node:\n",
    "            if self.selected_node:\n",
    "                self.selected_node.classes = remove_cyto_class(self.selected_node, \"clicked\")\n",
    "            cyto_node.classes = add_cyto_class(cyto_node, \"clicked\")\n",
    "        \n",
    "        self.selected_node = cyto_node        \n",
    "    \n",
    "    @T.default(\"graph_view\")\n",
    "    def _create_graph_view(self):\n",
    "        w = CytoscapeViewer()\n",
    "        w.cytoscape_widget.on(\"node\", \"click\", self.node_click_action)\n",
    "        T.link((self, \"rdf_graph\"), (w, \"graph\"))\n",
    "        return w\n",
    "    \n",
    "    @T.default(\"rdf_graph\")\n",
    "    def _create_rdf_graph(self):\n",
    "        return rdflib.Graph()\n",
    "    \n",
    "    @T.default(\"selected_node\")\n",
    "    def _create_default_selected_node(self):\n",
    "        return None\n",
    "    \n",
    "    @T.validate(\"children\")\n",
    "    def validate_children(self, proposal):\n",
    "        \"\"\"\n",
    "        Validate method for default children.\n",
    "        This is necessary because @T.default does not work on children.\n",
    "        \"\"\"\n",
    "        children = proposal.value\n",
    "        if not children:\n",
    "            children = (self.graph_view,)\n",
    "        return children"
   ]
  },
  {
   "cell_type": "code",
   "execution_count": null,
   "id": "closing-millennium",
   "metadata": {},
   "outputs": [],
   "source": [
    "gev2 = GEv2()\n",
    "gev2.rdf_graph = simple_graph\n",
    "gev2"
   ]
  }
 ],
 "metadata": {
  "kernelspec": {
   "display_name": "Python 3",
   "language": "python",
   "name": "python3"
  },
  "language_info": {
   "codemirror_mode": {
    "name": "ipython",
    "version": 3
   },
   "file_extension": ".py",
   "mimetype": "text/x-python",
   "name": "python",
   "nbconvert_exporter": "python",
   "pygments_lexer": "ipython3",
   "version": "3.7.10"
  }
 },
 "nbformat": 4,
 "nbformat_minor": 5
}
