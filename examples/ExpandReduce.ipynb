{
 "cells": [
  {
   "cell_type": "markdown",
   "id": "forced-melissa",
   "metadata": {},
   "source": [
    "## Overview of the Expansion/Reduction process"
   ]
  },
  {
   "cell_type": "code",
   "execution_count": null,
   "id": "quality-delay",
   "metadata": {},
   "outputs": [],
   "source": [
    "# set logging level (suppress INFO and DEBUG)\n",
    "import logging\n",
    "logger = logging.getLogger()\n",
    "logger.setLevel(logging.ERROR)"
   ]
  },
  {
   "cell_type": "code",
   "execution_count": null,
   "id": "positive-inside",
   "metadata": {},
   "outputs": [],
   "source": [
    "from ipyradiant import FileManager, PathLoader\n",
    "import rdflib\n",
    "\n",
    "lw = FileManager(loader=PathLoader(path=\"data\"))\n",
    "# here we hard set what we want the file to be, but ideally a user can choose a file to work with.\n",
    "lw.loader.file_picker.value = lw.loader.file_picker.options[\"starwars.ttl\"]\n",
    "rdf_graph = lw.graph\n",
    "qres = lw.graph.query(\n",
    "    \"\"\"\n",
    "    PREFIX planet: <https://swapi.co/resource/planet/>\n",
    "    PREFIX human: <https://swapi.co/resource/human/>\n",
    "    PREFIX film: <https://swapi.co/resource/film/>\n",
    "    \n",
    "    CONSTRUCT {\n",
    "        ?s ?p ?o .\n",
    "    }\n",
    "    WHERE {\n",
    "        ?s ?p ?o .\n",
    "        \n",
    "        VALUES (?s) {\n",
    "            (human:1)\n",
    "#            (human:4)\n",
    "#            (human:5)\n",
    "#            (film:1)\n",
    "#            (film:4)\n",
    "#            (planet:1)\n",
    "#            (planet:2)\n",
    "        }\n",
    "    }\n",
    "    \"\"\"\n",
    ")\n",
    "\n",
    "simple_graph = rdflib.graph.Graph().parse(data=qres.serialize(format=\"xml\"))"
   ]
  },
  {
   "cell_type": "code",
   "execution_count": null,
   "id": "standard-kuwait",
   "metadata": {},
   "outputs": [],
   "source": [
    "import ipycytoscape as cyto\n",
    "import ipywidgets as W\n",
    "import traitlets as T\n",
    "import rdflib\n",
    "\n",
    "from typing import List\n",
    "from IPython.display import display, JSON\n",
    "from pandas import DataFrame\n",
    "from ipyradiant.query.api import SPARQLQueryFramer, build_values\n",
    "from ipyradiant.visualization.improved_cytoscape import CytoscapeViewer\n",
    "from ipyradiant.visualization.explore.interactive_exploration import add_cyto_class, remove_cyto_class\n",
    "from ipyradiant.visualization.explore import GraphExploreSelectMultiple\n",
    "from ipyradiant.rdf2nx import RDF2NX"
   ]
  },
  {
   "cell_type": "markdown",
   "id": "general-sponsorship",
   "metadata": {},
   "source": [
    "#### Tracking Graphs\n",
    "The visualization widgets will have variables for the rdf and networkx graphs. These should be more adept at managing information, but for demonstration, we will keep our own instances and update them. "
   ]
  },
  {
   "cell_type": "code",
   "execution_count": null,
   "id": "automated-housing",
   "metadata": {},
   "outputs": [],
   "source": [
    "rdf_graph = rdflib.graph.Graph()\n",
    "# For now, the networkx graph is created internal to the visualization using the RDF2NX converter.\n",
    "# This allows some custom logic from displaying certain annotation properties (e.g. rdfs:label) to be standardized.\n",
    "# nx_graph = None"
   ]
  },
  {
   "cell_type": "markdown",
   "id": "accurate-responsibility",
   "metadata": {},
   "source": [
    "#### Empty Visualization\n",
    "We will populate **new** instances of the visualization as we update the graphs. \n",
    "\n",
    "> Note: the current version of the ipycytoscape library prevents us from updating within the same instance. As the stability of the library improves we can fold in this capability as a set of widget observer methods."
   ]
  },
  {
   "cell_type": "code",
   "execution_count": null,
   "id": "sophisticated-genius",
   "metadata": {},
   "outputs": [],
   "source": [
    "cv0 = CytoscapeViewer()\n",
    "cv0"
   ]
  },
  {
   "cell_type": "markdown",
   "id": "hired-praise",
   "metadata": {},
   "source": [
    "#### JSON Visualization\n",
    "Often, we want to inspect networkx (LPG) nodes for their data attributes. Custom visualization classes have this capability built into the widgets, but for now we will define an external class for this capability."
   ]
  },
  {
   "cell_type": "code",
   "execution_count": null,
   "id": "sitting-integrity",
   "metadata": {},
   "outputs": [],
   "source": [
    "class JSONInspector(W.VBox):\n",
    "    def __init__(self, *args, **kwargs):\n",
    "        super().__init__(*args, **kwargs)\n",
    "        self.json_output = W.Output()\n",
    "        self.interactive_widget = kwargs[\"interactive_widget\"]\n",
    "        self.children = [self.interactive_widget, self.json_output]\n",
    "        self.interactive_widget.cytoscape_widget.on(\"node\", \"click\", self.load_json)\n",
    "\n",
    "    def load_json(self, node):\n",
    "        data = node[\"data\"]\n",
    "        data.pop(\"_label\", None)\n",
    "        data.pop(\"_attrs\", None)\n",
    "        with self.json_output:\n",
    "            self.json_output.clear_output()\n",
    "            display(JSON(data))"
   ]
  },
  {
   "cell_type": "markdown",
   "id": "optional-testimony",
   "metadata": {},
   "source": [
    "### Expand/Reduce\n",
    "The goal is to allow a graph (both RDF and its networkx representation) to be expanded/reduced based on the addition of one or more nodes. \n",
    "\n",
    "#### Expansion\n",
    "To expand the graph, we want to query the RDF graph for all desired nodes and return all triples with the desired nodes as the `subject`. For the LPG representation, we also want to query and return all data associated with any nodes in the `object` position (only `Literal` data).\n",
    "\n",
    "> Note, we use the same query and process to populate the initial set of nodes to display"
   ]
  },
  {
   "cell_type": "code",
   "execution_count": null,
   "id": "outstanding-shore",
   "metadata": {},
   "outputs": [],
   "source": [
    "class ConstructExpansionMeta(type):\n",
    "    \"\"\"Metaclass to expand/reduce.\"\"\"\n",
    "\n",
    "    _sparql = \"\"\"\n",
    "        CONSTRUCT {{\n",
    "            ?iri ?predicate ?object .\n",
    "        \n",
    "            ?object a ?type;\n",
    "                ?secondary_predicate ?secondary_object .\n",
    "        }}\n",
    "        WHERE {{\n",
    "            ?iri ?predicate ?object .\n",
    "            \n",
    "            OPTIONAL {{\n",
    "                ?object a ?type ;\n",
    "                    ?secondary_predicate ?secondary_object .\n",
    "                \n",
    "                FILTER (isLiteral(?secondary_object))\n",
    "            }}\n",
    "\n",
    "            VALUES ({}) {{\n",
    "                {}\n",
    "            }}\n",
    "        }}\n",
    "    \"\"\"\n",
    "    values = None\n",
    "\n",
    "    @property\n",
    "    def sparql(cls):\n",
    "        return build_values(cls._sparql, cls.values)\n",
    "\n",
    "\n",
    "class ConstructExpansion(SPARQLQueryFramer, metaclass=ConstructExpansionMeta):\n",
    "    values = None"
   ]
  },
  {
   "cell_type": "code",
   "execution_count": null,
   "id": "concerned-professional",
   "metadata": {},
   "outputs": [],
   "source": [
    "# set values (manually here, but ideally via widget/interaction)\n",
    "ConstructExpansion.values = {\n",
    "    \"iri\": [\n",
    "        rdflib.term.URIRef(\"https://swapi.co/resource/human/1\")    ]\n",
    "}\n",
    "qres = ConstructExpansion.run_query(lw.graph)\n",
    "qres.head()"
   ]
  },
  {
   "cell_type": "markdown",
   "id": "intimate-outline",
   "metadata": {},
   "source": [
    "The basic manipulation of the tracking graphs."
   ]
  },
  {
   "cell_type": "code",
   "execution_count": null,
   "id": "applied-colorado",
   "metadata": {},
   "outputs": [],
   "source": [
    "# update the rdf graph\n",
    "# note, we do this by adding a newly created graph\n",
    "addition_graph = rdflib.graph.Graph()\n",
    "for triple in qres.values:\n",
    "    addition_graph.add(triple)\n",
    "    \n",
    "rdf_graph = rdf_graph + addition_graph"
   ]
  },
  {
   "cell_type": "code",
   "execution_count": null,
   "id": "healthy-message",
   "metadata": {},
   "outputs": [],
   "source": [
    "# new visualization instance\n",
    "# note: you can click the nodes to inspect their data\n",
    "cv1 = CytoscapeViewer()\n",
    "cv1.graph = rdf_graph\n",
    "JSONInspector(interactive_widget=cv1)"
   ]
  },
  {
   "cell_type": "code",
   "execution_count": null,
   "id": "adequate-collector",
   "metadata": {},
   "outputs": [],
   "source": [
    "# Expand the graph (i.e. user double-clicked \"imperial speeder bike\")\n",
    "subject_to_expand = rdflib.term.URIRef(\"https://swapi.co/resource/vehicle/14\")\n",
    "\n",
    "# set values (manually here, but ideally via widget/interaction)\n",
    "ConstructExpansion.values = {\"iri\": [subject_to_expand]}\n",
    "qres = ConstructExpansion.run_query(lw.graph)\n",
    "\n",
    "# update the rdf graph\n",
    "# note, we do this by adding a newly created graph\n",
    "addition_graph = rdflib.graph.Graph()\n",
    "for triple in qres.values:\n",
    "    addition_graph.add(triple)\n",
    "    \n",
    "rdf_graph = rdf_graph + addition_graph"
   ]
  },
  {
   "cell_type": "code",
   "execution_count": null,
   "id": "asian-consultation",
   "metadata": {},
   "outputs": [],
   "source": [
    "# new visualization instance\n",
    "# note: you can click the nodes to inspect their data\n",
    "cv2 = CytoscapeViewer(cyto_layout=\"cola\")\n",
    "cv2.graph = rdf_graph\n",
    "JSONInspector(interactive_widget=cv2)"
   ]
  },
  {
   "cell_type": "markdown",
   "id": "latin-rebound",
   "metadata": {},
   "source": [
    "> Note 1: Now we have a bi-directional edge between `Snowspeeder` and `Luke Skywalker`. This edge existed before, but we only visulize outogoing edges from expanded nodes in order to simplify the visualization.\n",
    "\n",
    "> Note 2: In order to determine proper object nodes from an expanded subject, their `rdf:type` is included in the expansion. This means the `objects` of any expanded node triples will also have an outgoing edge to their `rdf:type` if it existed in the graph prior to expansion. You can see this in the graph above via the connection from `Wedge Antilles` to `Human`. "
   ]
  },
  {
   "cell_type": "code",
   "execution_count": null,
   "id": "three-celebration",
   "metadata": {},
   "outputs": [],
   "source": [
    "# lets expand once more on `Wedge Antilles`\n",
    "subject_to_expand = rdflib.term.URIRef(\"https://swapi.co/resource/human/18\")\n",
    "\n",
    "# set values (manually here, but ideally via widget/interaction)\n",
    "ConstructExpansion.values = {\"iri\": [subject_to_expand]}\n",
    "qres = ConstructExpansion.run_query(lw.graph)\n",
    "\n",
    "# update the rdf graph\n",
    "# note, we do this by adding a newly created graph\n",
    "addition_graph = rdflib.graph.Graph()\n",
    "for triple in qres.values:\n",
    "    addition_graph.add(triple)\n",
    "    \n",
    "rdf_graph = rdf_graph + addition_graph"
   ]
  },
  {
   "cell_type": "code",
   "execution_count": null,
   "id": "living-longitude",
   "metadata": {},
   "outputs": [],
   "source": [
    "# new visualization instance\n",
    "# note: you can click the nodes to inspect their data\n",
    "cv3 = CytoscapeViewer(cyto_layout=\"cola\")\n",
    "cv3.graph = rdf_graph\n",
    "JSONInspector(interactive_widget=cv3)"
   ]
  },
  {
   "cell_type": "markdown",
   "id": "vietnamese-guinea",
   "metadata": {},
   "source": [
    "#### Reduction\n",
    "Reducing the graph is a bit more complex and opinionated. While we want the simplicity of removing nodes from the `ipycytoscape.CytoscapeWidget.Graph` because it will clean up all adjacent nodes/edges, we can't leverage this capability currently. We need the state of our RDF graph in order to perform an expansion after a reduction (remember, we add to the `rdf_graph`, which means we need it to be current). \n",
    "\n",
    "Therefore, we must make the reduction on the `rdf_graph` and let our transformation process recreate a cytoscape graph."
   ]
  },
  {
   "cell_type": "markdown",
   "id": "fleet-wilson",
   "metadata": {},
   "source": [
    "As a narrative story point, imagine we see the expansion of `Wedge Antilles` and decide that the expansion did not provide any valuable information; rather, it unneccessarily cluttered our visualization. We can reduce the graph by removing the node and any outgoing edges. "
   ]
  },
  {
   "cell_type": "code",
   "execution_count": null,
   "id": "binding-viking",
   "metadata": {},
   "outputs": [],
   "source": [
    "class ConstructReductionMeta(type):\n",
    "    \"\"\"Metaclass to expand/reduce.\"\"\"\n",
    "\n",
    "    _sparql = \"\"\"\n",
    "        CONSTRUCT {{\n",
    "            ?iri ?predicate ?object .\n",
    "        }}\n",
    "        WHERE {{\n",
    "            ?iri ?predicate ?object .\n",
    "\n",
    "            VALUES ({}) {{\n",
    "                {}\n",
    "            }}\n",
    "        }}\n",
    "    \"\"\"\n",
    "    values = None\n",
    "\n",
    "    @property\n",
    "    def sparql(cls):\n",
    "        return build_values(cls._sparql, cls.values)\n",
    "\n",
    "\n",
    "class ConstructReduction(SPARQLQueryFramer, metaclass=ConstructReductionMeta):\n",
    "    values = None"
   ]
  },
  {
   "cell_type": "code",
   "execution_count": null,
   "id": "tight-mission",
   "metadata": {},
   "outputs": [],
   "source": [
    "# lets reduce the graph on `Wedge Antilles`\n",
    "subject_to_reduce = rdflib.term.URIRef(\"https://swapi.co/resource/human/18\")\n",
    "\n",
    "# set values (manually here, but ideally via widget/interaction)\n",
    "ConstructReduction.values = {\"iri\": [subject_to_reduce]}\n",
    "qres = ConstructReduction.run_query(lw.graph)\n",
    "\n",
    "# update the rdf graph\n",
    "# note, we do this by subracting a newly created graph\n",
    "subtraction_graph = rdflib.graph.Graph()\n",
    "for triple in qres.values:\n",
    "    subtraction_graph.add(triple)\n",
    "    \n",
    "rdf_graph = rdf_graph - subtraction_graph"
   ]
  },
  {
   "cell_type": "code",
   "execution_count": null,
   "id": "dried-techno",
   "metadata": {},
   "outputs": [],
   "source": [
    "# new visualization instance\n",
    "# note: you can click the nodes to inspect their data\n",
    "cv4 = CytoscapeViewer(cyto_layout=\"cola\")\n",
    "cv4.graph = rdf_graph\n",
    "JSONInspector(interactive_widget=cv4)"
   ]
  },
  {
   "cell_type": "markdown",
   "id": "charitable-mirror",
   "metadata": {},
   "source": [
    "> Note 1: The reduction only removed the subject node and its edges; it does not remove other subjects that were created as part of the process (e.g. `Corellia`). We would have to run another reduction on this node to clean-up. \n",
    "\n",
    "TODO could we implement a `clear_disconnected_nodes` somehow? (would probably have to be on the networkx/ipycytoscape side)\n",
    "TODO this brings back up the need for a cached `undo` button that stores the previous (\"n\"?) states and can undo the expansions more completely.\n",
    "\n",
    "> Note 2: The RDF graph also has some loose edges floating around. We removed the `Wedge Antilles` node, but there was an edge going from `Snowspeeder`->`Wedge Antilles`. This edge is still in the `rdf_graph` (as well as several other floating edges), but it pruned during the conversion to the `nx_graph` internal to the visualization."
   ]
  },
  {
   "cell_type": "code",
   "execution_count": null,
   "id": "packed-bobby",
   "metadata": {},
   "outputs": [],
   "source": []
  }
 ],
 "metadata": {
  "kernelspec": {
   "display_name": "Python 3",
   "language": "python",
   "name": "python3"
  },
  "language_info": {
   "codemirror_mode": {
    "name": "ipython",
    "version": 3
   },
   "file_extension": ".py",
   "mimetype": "text/x-python",
   "name": "python",
   "nbconvert_exporter": "python",
   "pygments_lexer": "ipython3",
   "version": "3.7.10"
  }
 },
 "nbformat": 4,
 "nbformat_minor": 5
}
