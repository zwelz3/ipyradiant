{
 "cells": [
  {
   "cell_type": "markdown",
   "metadata": {},
   "source": [
    "# A Test for the Cytoscape Example"
   ]
  },
  {
   "cell_type": "code",
   "execution_count": 4,
   "metadata": {},
   "outputs": [
    {
     "ename": "ModuleNotFoundError",
     "evalue": "No module named 'Cytoscape_Example'",
     "output_type": "error",
     "traceback": [
      "\u001b[1;31m---------------------------------------------------------------------------\u001b[0m",
      "\u001b[1;31mImportError\u001b[0m                               Traceback (most recent call last)",
      "\u001b[1;32m<ipython-input-4-43c58ae623a3>\u001b[0m in \u001b[0;36m<module>\u001b[1;34m\u001b[0m\n\u001b[0;32m     12\u001b[0m     \u001b[1;32mtry\u001b[0m\u001b[1;33m:\u001b[0m\u001b[1;33m\u001b[0m\u001b[1;33m\u001b[0m\u001b[0m\n\u001b[1;32m---> 13\u001b[1;33m         \u001b[1;32mfrom\u001b[0m \u001b[1;33m.\u001b[0m\u001b[0mCytoscape_Example\u001b[0m \u001b[1;32mimport\u001b[0m \u001b[1;33m*\u001b[0m\u001b[1;33m\u001b[0m\u001b[1;33m\u001b[0m\u001b[0m\n\u001b[0m\u001b[0;32m     14\u001b[0m     \u001b[1;32mexcept\u001b[0m \u001b[0mImportError\u001b[0m\u001b[1;33m:\u001b[0m\u001b[1;33m\u001b[0m\u001b[1;33m\u001b[0m\u001b[0m\n",
      "\u001b[1;31mImportError\u001b[0m: attempted relative import with no known parent package",
      "\nDuring handling of the above exception, another exception occurred:\n",
      "\u001b[1;31mModuleNotFoundError\u001b[0m                       Traceback (most recent call last)",
      "\u001b[1;32m<ipython-input-4-43c58ae623a3>\u001b[0m in \u001b[0;36m<module>\u001b[1;34m\u001b[0m\n\u001b[0;32m     13\u001b[0m         \u001b[1;32mfrom\u001b[0m \u001b[1;33m.\u001b[0m\u001b[0mCytoscape_Example\u001b[0m \u001b[1;32mimport\u001b[0m \u001b[1;33m*\u001b[0m\u001b[1;33m\u001b[0m\u001b[1;33m\u001b[0m\u001b[0m\n\u001b[0;32m     14\u001b[0m     \u001b[1;32mexcept\u001b[0m \u001b[0mImportError\u001b[0m\u001b[1;33m:\u001b[0m\u001b[1;33m\u001b[0m\u001b[1;33m\u001b[0m\u001b[0m\n\u001b[1;32m---> 15\u001b[1;33m         \u001b[1;32mfrom\u001b[0m \u001b[0mCytoscape_Example\u001b[0m \u001b[1;32mimport\u001b[0m \u001b[0mW\u001b[0m\u001b[1;33m,\u001b[0m \u001b[0mcy\u001b[0m\u001b[1;33m,\u001b[0m \u001b[0mcy_ex\u001b[0m\u001b[1;33m,\u001b[0m \u001b[0mfm\u001b[0m\u001b[1;33m,\u001b[0m \u001b[0mpl\u001b[0m\u001b[1;33m\u001b[0m\u001b[1;33m\u001b[0m\u001b[0m\n\u001b[0m",
      "\u001b[1;31mModuleNotFoundError\u001b[0m: No module named 'Cytoscape_Example'"
     ]
    }
   ],
   "source": [
    "import json\n",
    "import os\n",
    "import time\n",
    "from pathlib import Path\n",
    "\n",
    "import importnb\n",
    "from rdflib import Graph\n",
    "from requests_cache import CachedSession\n",
    "\n",
    "\n",
    "with importnb.Notebook(lazy=True):\n",
    "    try:\n",
    "        from .Cytoscape_Example import W, cy, cy_ex, fm, pl\n",
    "    except ImportError:\n",
    "        from Cytoscape_Example import W, cy, cy_ex, fm, pl"
   ]
  },
  {
   "cell_type": "code",
   "execution_count": null,
   "metadata": {},
   "outputs": [],
   "source": []
  },
  {
   "cell_type": "markdown",
   "metadata": {},
   "source": [
    "This notebook is used as part of the `ipyradiant` test suite, where `IPYRADIANT_TESTING`\n",
    "will be set, which will trigger the automted section below."
   ]
  },
  {
   "cell_type": "code",
   "execution_count": null,
   "metadata": {},
   "outputs": [],
   "source": [
    "IS_TESTING = json.loads(os.environ.get(\"IPYRADIANT_TESTING\", \"false\"))\n",
    "IS_TESTING"
   ]
  },
  {
   "cell_type": "markdown",
   "metadata": {},
   "source": [
    "Example data is loaded from [schema.org](https://schema.org/docs/developers.html)."
   ]
  },
  {
   "cell_type": "markdown",
   "metadata": {},
   "source": [
    "Tests are implemented as buttons you click."
   ]
  },
  {
   "cell_type": "code",
   "execution_count": null,
   "metadata": {},
   "outputs": [],
   "source": [
    "tests = [\n",
    "    W.Button(description=f\"{k}\")\n",
    "    for k, v in pl.file_picker.options.items()\n",
    "    if v and \"tree\" not in k\n",
    "]"
   ]
  },
  {
   "cell_type": "code",
   "execution_count": null,
   "metadata": {},
   "outputs": [],
   "source": [
    "timings = {}\n",
    "\n",
    "\n",
    "def timestamp(key, msg):\n",
    "    if key not in timings:\n",
    "        timings[key] = []\n",
    "    timings[key] += [time.time()]\n",
    "    delta = 0 if len(timings[key]) == 1 else timings[key][-1] - timings[key][-2]\n",
    "    print(f\"[{key}]\", f\"+{int(delta)}\", msg)"
   ]
  },
  {
   "cell_type": "code",
   "execution_count": null,
   "metadata": {},
   "outputs": [],
   "source": [
    "def _run_test(btn):\n",
    "    p = btn.description\n",
    "\n",
    "    try:\n",
    "        timestamp(p, \"starting...\")\n",
    "        fm.graph = Graph()\n",
    "        timestamp(p, \"cleaned...\")\n",
    "        assert len(cy.graph.all_nodes()) == 0\n",
    "        timestamp(p, f\"loading...\")\n",
    "        pl.file_picker.value = pl.file_picker.options[p]\n",
    "        timestamp(p, f\"... {len(fm.graph)} triples loaded\")\n",
    "        assert len(fm.graph)\n",
    "        assert len(cy.graph.all_nodes()) > 0\n",
    "        timestamp(p, \"OK!\")\n",
    "    except Exception as err:\n",
    "        timestamp(p, \"ERROR\")\n",
    "        timestamp(p, err)\n",
    "        raise Exception(f\"{p} failed\") from err\n",
    "\n",
    "\n",
    "[d.on_click(_run_test) for d in tests]"
   ]
  },
  {
   "cell_type": "markdown",
   "metadata": {},
   "source": [
    "## Show the Test Application"
   ]
  },
  {
   "cell_type": "code",
   "execution_count": null,
   "metadata": {},
   "outputs": [],
   "source": [
    "W.VBox([cy_ex, W.HBox([W.Label(\"Start Test\"), *tests])])"
   ]
  },
  {
   "cell_type": "markdown",
   "metadata": {},
   "source": [
    "# Run Test Automatically"
   ]
  },
  {
   "cell_type": "code",
   "execution_count": null,
   "metadata": {},
   "outputs": [],
   "source": [
    "if IS_TESTING:\n",
    "    for test in tests:\n",
    "        test.click()"
   ]
  }
 ],
 "metadata": {
  "kernelspec": {
   "display_name": "Python 3",
   "language": "python",
   "name": "python3"
  },
  "language_info": {
   "codemirror_mode": {
    "name": "ipython",
    "version": 3
   },
   "file_extension": ".py",
   "mimetype": "text/x-python",
   "name": "python",
   "nbconvert_exporter": "python",
   "pygments_lexer": "ipython3",
   "version": "3.7.10"
  }
 },
 "nbformat": 4,
 "nbformat_minor": 4
}
