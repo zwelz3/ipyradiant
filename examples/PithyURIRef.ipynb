{
 "cells": [
  {
   "cell_type": "markdown",
   "metadata": {},
   "source": [
    "####\n",
    "TODO trying to figure out how to set the base for a PithyURI"
   ]
  },
  {
   "cell_type": "code",
   "execution_count": null,
   "metadata": {},
   "outputs": [],
   "source": [
    "import logging\n",
    "\n",
    "from typing import Dict, Union\n",
    "from pathlib import Path\n",
    "\n",
    "from rdflib import URIRef\n",
    "from rdflib.namespace import Namespace\n",
    "from rdflib.term import _is_valid_uri\n",
    "\n",
    "logger = logging.getLogger(__name__)"
   ]
  },
  {
   "cell_type": "code",
   "execution_count": null,
   "metadata": {},
   "outputs": [],
   "source": [
    "from urllib.parse import urlsplit, urlunsplit"
   ]
  },
  {
   "cell_type": "code",
   "execution_count": null,
   "metadata": {},
   "outputs": [],
   "source": [
    "urlsplit(a+\"#test\")"
   ]
  },
  {
   "cell_type": "code",
   "execution_count": null,
   "metadata": {},
   "outputs": [],
   "source": [
    "def get_uri_root(uri: Union[str, URIRef]) -> str:\n",
    "    \"\"\"Gets the root of a URI (everything but the fragmant, or name)\"\"\"\n",
    "\n",
    "    if uri[-1] == \"/\":\n",
    "        return uri\n",
    "    \n",
    "    parts = urlsplit(uri)\n",
    "    parts.query, parts.fragment = \"\", \"\"\n",
    "    return urlunsplit(parts)\n",
    "\n",
    "def uri_to_pithy_str(\n",
    "    uri: URIRef, \n",
    "    prefix: str, \n",
    "    base: Union[str, Namespace, URIRef], \n",
    "    strict: bool =False\n",
    ") -> str:\n",
    "    \"\"\"Convert URIs to pithy strings using a base namespace.\"\"\"\n",
    "    id_ = re.split(\"/|#\", uri)[-1]\n",
    "\n",
    "    if not uri.startswith(base):\n",
    "        logger.warning(\"Base not applicable to uri.\")\n",
    "        if strict:\n",
    "            return uri\n",
    "        return id_\n",
    "    if ns is None:\n",
    "        return id_\n",
    "    else:\n",
    "        for term, namespace in ns.items():\n",
    "            if uri.startswith(namespace):\n",
    "                prefix = term\n",
    "                break\n",
    "\n",
    "    if prefix is None:\n",
    "        return id_\n",
    "    else:\n",
    "        return f\"{prefix}:{id_}\""
   ]
  },
  {
   "cell_type": "code",
   "execution_count": null,
   "metadata": {},
   "outputs": [],
   "source": [
    "get_uri_root(a+\"#test\")"
   ]
  },
  {
   "cell_type": "code",
   "execution_count": null,
   "metadata": {},
   "outputs": [],
   "source": [
    "class PithyURIRef(URIRef):\n",
    "    \"\"\"\n",
    "    \"\"\"\n",
    "    def __new__(cls, value, base=None, namespaces=None):\n",
    "        pithy = URIRef.__new__(cls, value, base=base)   \n",
    "        # need to use parent str method so that we have a basis for __eq__\n",
    "        pithy.uri = URIRef.__str__(pithy)\n",
    "        return pithy\n",
    "    \n",
    "    def __eq__(self, other):\n",
    "        if type(other) == type(self):\n",
    "            return self.uri == other.uri\n",
    "        elif isinstance(self, type(other)):\n",
    "            return self.uri == str(other)\n",
    "        else:\n",
    "            return False\n",
    "        \n",
    "    \n",
    "    def __hash__(self):\n",
    "        # Update hash to work with urllib.parse capabilities\n",
    "        return hash(self.uri)\n",
    "        \n",
    "    def __str__(self):\n",
    "        # This will return the pithy representation\n",
    "        return \"\"\"hello\"\"\"\n",
    "    \n",
    "    def __reduce__(self):\n",
    "        return (URIRef, (self.uri,))\n",
    "\n",
    "    def __getnewargs__(self):\n",
    "        return (self.uri,)\n",
    "    \n",
    "    def __add__(self, other):\n",
    "        return self.__class__(self.uri + other)\n",
    "\n",
    "    def __radd__(self, other):\n",
    "        return self.__class__(other + self.uri)\n",
    "\n",
    "    def __mod__(self, other):\n",
    "        return self.__class__(self.uri % other)\n",
    "\n",
    "    # TODO do we need to update Identifier methods? Is it even worth at this point"
   ]
  },
  {
   "cell_type": "code",
   "execution_count": null,
   "metadata": {},
   "outputs": [],
   "source": [
    "a = PithyURIRef(\"https://www.example.com/Thing\") \n",
    "b = PithyURIRef(\"https://www.example.com/Thing\") \n",
    "c = URIRef(\"https://www.example.com/Thing\")\n",
    "a == b, b == c"
   ]
  },
  {
   "cell_type": "code",
   "execution_count": null,
   "metadata": {},
   "outputs": [],
   "source": [
    "import ipywidgets as W"
   ]
  },
  {
   "cell_type": "code",
   "execution_count": null,
   "metadata": {},
   "outputs": [],
   "source": [
    "W.Select(options=[a])"
   ]
  },
  {
   "cell_type": "code",
   "execution_count": null,
   "metadata": {},
   "outputs": [],
   "source": []
  }
 ],
 "metadata": {
  "kernelspec": {
   "display_name": "Python 3",
   "language": "python",
   "name": "python3"
  },
  "language_info": {
   "codemirror_mode": {
    "name": "ipython",
    "version": 3
   },
   "file_extension": ".py",
   "mimetype": "text/x-python",
   "name": "python",
   "nbconvert_exporter": "python",
   "pygments_lexer": "ipython3",
   "version": "3.7.8"
  }
 },
 "nbformat": 4,
 "nbformat_minor": 4
}
